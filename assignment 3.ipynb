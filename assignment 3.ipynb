{
 "cells": [
  {
   "cell_type": "code",
   "execution_count": 11,
   "id": "49eb78c6-5abf-4fab-a8bf-4716aec2f3c2",
   "metadata": {},
   "outputs": [
    {
     "name": "stdout",
     "output_type": "stream",
     "text": [
      "      Name  Gender  Age  Height (cm)  Weight (kg)         City\n",
      "0    Alice  Female   25          165           58     New York\n",
      "1      Bob    Male   30          180           80  Los Angeles\n",
      "2  Charlie    Male   35          175           70      Chicago\n",
      "3    Diana  Female   28          170           65        Miami\n",
      "4      Eva  Female   27          175           60     New York\n"
     ]
    }
   ],
   "source": [
    "### 1. Import pandas and read the data into a DataFrame. Print the first 5 rows of the DataFrame\n",
    "import pandas as pd\n",
    "df = pd.read_csv('padas_question.csv')\n",
    "print(data.head())\n"
   ]
  },
  {
   "cell_type": "code",
   "execution_count": 12,
   "id": "bd08e55d-8044-4f11-82ad-863715aed063",
   "metadata": {},
   "outputs": [
    {
     "name": "stdout",
     "output_type": "stream",
     "text": [
      "Number of rows: 10\n",
      "Number of columns: 6\n"
     ]
    }
   ],
   "source": [
    "###Print the number of rows and columns in the DataFrame.\n",
    "print(\"Number of rows:\", data.shape[0])\n",
    "print(\"Number of columns:\", data.shape[1])"
   ]
  },
  {
   "cell_type": "code",
   "execution_count": 13,
   "id": "d3eecd0f-5d14-486f-8817-a79b5d375ceb",
   "metadata": {},
   "outputs": [
    {
     "name": "stdout",
     "output_type": "stream",
     "text": [
      "Null value counts:\n",
      "Name           0\n",
      "Gender         0\n",
      "Age            0\n",
      "Height (cm)    0\n",
      "Weight (kg)    0\n",
      "City           0\n",
      "dtype: int64\n"
     ]
    }
   ],
   "source": [
    "### Print the null value count\n",
    "# Counting null values in each column\n",
    "null_counts = data.isnull().sum()\n",
    "\n",
    "# Printing null value counts\n",
    "print(\"Null value counts:\")\n",
    "print(null_counts)"
   ]
  },
  {
   "cell_type": "code",
   "execution_count": 14,
   "id": "53e50ace-2a3f-406c-8104-38477e937c85",
   "metadata": {},
   "outputs": [
    {
     "name": "stdout",
     "output_type": "stream",
     "text": [
      "Average age: 31.6\n",
      "Average height: 175.0\n",
      "Average weight: 68.9\n"
     ]
    }
   ],
   "source": [
    "### Print the average age, height, and weight of the people in the DataFrame\n",
    "# Assuming 'data' is your DataFrame and it contains columns 'age', 'height', and 'weight'\n",
    "average_age = data['Age'].mean()\n",
    "average_height = data['Height (cm)'].mean()\n",
    "average_weight = data['Weight (kg)'].mean()\n",
    "\n",
    "# Printing the average age, height, and weight\n",
    "print(\"Average age:\", average_age)\n",
    "print(\"Average height:\", average_height)\n",
    "print(\"Average weight:\", average_weight)\n"
   ]
  },
  {
   "cell_type": "code",
   "execution_count": 15,
   "id": "3fa6d99b-a371-4df8-9544-9ca3944ebba8",
   "metadata": {},
   "outputs": [
    {
     "name": "stdout",
     "output_type": "stream",
     "text": [
      "Name of the tallest person: Frank\n",
      "City of the tallest person: Houston\n"
     ]
    }
   ],
   "source": [
    "### Print the name and city of the person who is the tallest in the DataFrame\n",
    "# Assuming 'data' is your DataFrame and it contains columns 'name', 'city', and 'height'\n",
    "tallest_index = data['Height (cm)'].idxmax()\n",
    "tallest_person_name = data.loc[tallest_index, 'Name']\n",
    "tallest_person_city = data.loc[tallest_index, 'City']\n",
    "\n",
    "# Printing the name and city of the tallest person\n",
    "print(\"Name of the tallest person:\", tallest_person_name)\n",
    "print(\"City of the tallest person:\", tallest_person_city)\n"
   ]
  },
  {
   "cell_type": "code",
   "execution_count": 16,
   "id": "5fdad0f7-f709-4a09-a97d-e9cd886853d4",
   "metadata": {},
   "outputs": [
    {
     "name": "stdout",
     "output_type": "stream",
     "text": [
      "      Name  Gender  Age  Height (cm)  Weight (kg)         City       BMI\n",
      "0    Alice  Female   25          165           58     New York  0.002130\n",
      "1      Bob    Male   30          180           80  Los Angeles  0.002469\n",
      "2  Charlie    Male   35          175           70      Chicago  0.002286\n",
      "3    Diana  Female   28          170           65        Miami  0.002249\n",
      "4      Eva  Female   27          175           60     New York  0.001959\n",
      "5    Frank    Male   40          190           85      Houston  0.002355\n",
      "6    Grace  Female   32          168           55      Chicago  0.001949\n",
      "7    Henry    Male   45          175           75  Los Angeles  0.002449\n",
      "8      Ivy  Female   26          172           63        Miami  0.002130\n",
      "9     Jack    Male   28          180           78     New York  0.002407\n"
     ]
    }
   ],
   "source": [
    "###Create a new column in the DataFrame called \"BMI\" that calculates the body mass index of each person. BMI iscalculated as weight (kg) divided by height (m) squared. Print the DataFrame with the new column.\n",
    "# Assuming 'data' is your DataFrame and it contains columns 'height' (in meters) and 'weight' (in kilograms)\n",
    "data['BMI'] = data['Weight (kg)'] / (data['Height (cm)'] ** 2)\n",
    "\n",
    "# Printing the DataFrame with the new column\n",
    "print(data)\n"
   ]
  },
  {
   "cell_type": "code",
   "execution_count": 21,
   "id": "25c42ed1-838e-44bb-99c2-34f512776085",
   "metadata": {},
   "outputs": [
    {
     "name": "stdout",
     "output_type": "stream",
     "text": [
      "Gender\n",
      "Female    27.6\n",
      "Male      35.6\n",
      "Name: Age, dtype: float64\n",
      "Gender\n",
      "Female    170.0\n",
      "Male      180.0\n",
      "Name: Height (cm), dtype: float64\n",
      "Gender\n",
      "Female    60.2\n",
      "Male      77.6\n",
      "Name: Weight (kg), dtype: float64\n"
     ]
    }
   ],
   "source": [
    "###  Group the data by gender and print the average age, height, and weight of males and females separately\n",
    "grouped_data = data.groupby('Gender')\n",
    "mean_age = grouped_data['Age'].mean()\n",
    "print(mean_age)\n",
    "mean_height= grouped_data['Height (cm)'].mean()\n",
    "print(mean_height)\n",
    "mean_weight= grouped_data['Weight (kg)'].mean()\n",
    "print(mean_weight)"
   ]
  },
  {
   "cell_type": "code",
   "execution_count": 23,
   "id": "06cab692-2b40-4362-b2ca-57c23658021e",
   "metadata": {},
   "outputs": [
    {
     "name": "stdout",
     "output_type": "stream",
     "text": [
      "    Name  Gender  Age  Height (cm)  Weight (kg)      City       BMI\n",
      "0  Alice  Female   25          165           58  New York  0.002130\n",
      "8    Ivy  Female   26          172           63     Miami  0.002130\n",
      "4    Eva  Female   27          175           60  New York  0.001959\n"
     ]
    }
   ],
   "source": [
    "### Sort the data by age in ascending order and print the first 3 rows of the sorted DataFrame.\n",
    "\n",
    "# Sorting data by age in ascending order\n",
    "sorted_data = data.sort_values(by='Age')\n",
    "\n",
    "# Printing the first 3 rows of the sorted DataFrame\n",
    "print(sorted_data.head(3))"
   ]
  },
  {
   "cell_type": "code",
   "execution_count": 25,
   "id": "7217cfcf-1e66-4bb6-9798-9de8fd275ded",
   "metadata": {},
   "outputs": [
    {
     "name": "stdout",
     "output_type": "stream",
     "text": [
      "    Name  Gender  Age  Height (cm)  Weight (kg)      City       BMI\n",
      "0  Alice  Female   25          165           58  New York  0.002130\n",
      "4    Eva  Female   27          175           60  New York  0.001959\n",
      "9   Jack    Male   28          180           78  New York  0.002407\n"
     ]
    }
   ],
   "source": [
    "### Filter the data to only include people who live in New York and print the resulting DataFrame\n",
    "# Filtering the data to include only people who live in New York\n",
    "ny_data = data[data['City'] == 'New York']\n",
    "\n",
    "# Printing the resulting DataFrame\n",
    "print(ny_data)"
   ]
  },
  {
   "cell_type": "code",
   "execution_count": null,
   "id": "7544590c-de58-427a-94f6-467988a36432",
   "metadata": {},
   "outputs": [],
   "source": []
  }
 ],
 "metadata": {
  "kernelspec": {
   "display_name": "Python 3 (ipykernel)",
   "language": "python",
   "name": "python3"
  },
  "language_info": {
   "codemirror_mode": {
    "name": "ipython",
    "version": 3
   },
   "file_extension": ".py",
   "mimetype": "text/x-python",
   "name": "python",
   "nbconvert_exporter": "python",
   "pygments_lexer": "ipython3",
   "version": "3.12.2"
  }
 },
 "nbformat": 4,
 "nbformat_minor": 5
}
