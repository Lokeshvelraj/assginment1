{
 "cells": [
  {
   "cell_type": "code",
   "execution_count": 3,
   "id": "02f7283c-fe7b-4c44-8bce-7ea551061298",
   "metadata": {},
   "outputs": [
    {
     "name": "stdout",
     "output_type": "stream",
     "text": [
      "The value of x is: 5\n"
     ]
    }
   ],
   "source": [
    "### Create a variable x and assign it the value 5. Print the value of x.  \n",
    "x = 5\n",
    "print(\"The value of x is:\", x)\n"
   ]
  },
  {
   "cell_type": "code",
   "execution_count": 5,
   "id": "940a69c8-dac1-4f56-a803-bc0f61e7d722",
   "metadata": {},
   "outputs": [
    {
     "name": "stdout",
     "output_type": "stream",
     "text": [
      "The result of adding a and b together is: 5\n"
     ]
    }
   ],
   "source": [
    "### Create two variables a and b, and assign them values 3 and 2 respectively. Add a and b together and print the result\n",
    "a = 3\n",
    "b = 2\n",
    "result = a + b\n",
    "print(\"The result of adding a and b together is:\", result)\n"
   ]
  },
  {
   "cell_type": "code",
   "execution_count": 6,
   "id": "f9d9b0ea-13c1-43a6-93b2-74d0763bff4f",
   "metadata": {},
   "outputs": [
    {
     "name": "stdout",
     "output_type": "stream",
     "text": [
      "The value of pi is: 3.14159\n"
     ]
    }
   ],
   "source": [
    "###Create a variable pi and assign it the value 3.14159. Print the value of pi.\n",
    "pi = 3.14159\n",
    "print(\"The value of pi is:\", pi)\n"
   ]
  },
  {
   "cell_type": "code",
   "execution_count": 7,
   "id": "5e35dadd-9ec4-4d41-bd31-80724a0383d3",
   "metadata": {},
   "outputs": [
    {
     "name": "stdout",
     "output_type": "stream",
     "text": [
      "The area of the circle with radius 5 is: 78.53975\n"
     ]
    }
   ],
   "source": [
    "### Create a variable radius and assign it the value 5. Calculate the area of a circle with radius radius using the formula pi * radius ** 2 and print the result\n",
    "pi = 3.14159\n",
    "radius = 5\n",
    "area = pi * radius ** 2\n",
    "print(\"The area of the circle with radius\", radius, \"is:\", area)\n"
   ]
  },
  {
   "cell_type": "code",
   "execution_count": 8,
   "id": "2a0c6c1d-c0eb-49d6-bc18-71a6b64e6383",
   "metadata": {},
   "outputs": [
    {
     "name": "stdout",
     "output_type": "stream",
     "text": [
      "Hello, LOKESH!\n"
     ]
    }
   ],
   "source": [
    "###Create a variable name and assign it your name as a string. Print a greeting using your name, such as \"Hello, [LOKESH]!\"\n",
    "name = \"LOKESH\"\n",
    "print(\"Hello, \" + name + \"!\")\n"
   ]
  },
  {
   "cell_type": "code",
   "execution_count": 9,
   "id": "bdb164c7-707a-4f8a-96fc-9709cae96793",
   "metadata": {},
   "outputs": [
    {
     "name": "stdout",
     "output_type": "stream",
     "text": [
      "I am 27 years old.\n"
     ]
    }
   ],
   "source": [
    "### Create a variable age and assign it your age as an integer. Print a sentence that includes your age, such as \"I am [age] years old.\"\n",
    "age = 27\n",
    "print(\"I am\", age, \"years old.\")\n"
   ]
  },
  {
   "cell_type": "code",
   "execution_count": 11,
   "id": "c398af47-9e13-4aa8-a2dd-97716a8e7801",
   "metadata": {},
   "outputs": [
    {
     "name": "stdout",
     "output_type": "stream",
     "text": [
      "I am 1.72 meters tall.\n"
     ]
    }
   ],
   "source": [
    "###Create a variable height and assign it your height in meters as a float. Print a sentence that includes your height, such as \"I am [height] meters tall.\"\n",
    "height = 1.72\n",
    "print(\"I am\", height, \"meters tall.\")\n"
   ]
  },
  {
   "cell_type": "code",
   "execution_count": 12,
   "id": "f5a25a23-8990-4a74-8fa5-5ab985419e5f",
   "metadata": {},
   "outputs": [
    {
     "name": "stdout",
     "output_type": "stream",
     "text": [
      "The first letter of the sentence is: L\n"
     ]
    }
   ],
   "source": [
    "### Create a variable sentence and assign it a sentence as a string. Print the first letter of the sentence.\n",
    "sentence = \"LOKESH.\"\n",
    "first_letter = sentence[0]\n",
    "print(\"The first letter of the sentence is:\", first_letter)\n"
   ]
  },
  {
   "cell_type": "code",
   "execution_count": 14,
   "id": "2821f4a4-f88a-498d-bca4-a9cda6859549",
   "metadata": {},
   "outputs": [
    {
     "name": "stdout",
     "output_type": "stream",
     "text": [
      "The last letter of the sentence is: H\n"
     ]
    }
   ],
   "source": [
    "###Create a variable sentence and assign it a sentence as a string\n",
    "sentence = \"LOKESH\"\n",
    "last_letter = sentence[-1]\n",
    "print(\"The last letter of the sentence is:\", last_letter)\n"
   ]
  },
  {
   "cell_type": "code",
   "execution_count": 15,
   "id": "9cf540d3-fb7e-472b-b11c-dbd8e0d05be7",
   "metadata": {},
   "outputs": [
    {
     "name": "stdout",
     "output_type": "stream",
     "text": [
      "The length of the sentence is: 6\n"
     ]
    }
   ],
   "source": [
    "### Create a variable sentence and assign it a sentence as a string. Print the length of the sentence\n",
    "sentence = \"LOKESH\"\n",
    "sentence_length = len(sentence)\n",
    "print(\"The length of the sentence is:\", sentence_length)\n"
   ]
  },
  {
   "cell_type": "code",
   "execution_count": null,
   "id": "2032a966-d0e8-4643-ae97-b0ac893f1fc3",
   "metadata": {},
   "outputs": [],
   "source": []
  }
 ],
 "metadata": {
  "kernelspec": {
   "display_name": "Python 3 (ipykernel)",
   "language": "python",
   "name": "python3"
  },
  "language_info": {
   "codemirror_mode": {
    "name": "ipython",
    "version": 3
   },
   "file_extension": ".py",
   "mimetype": "text/x-python",
   "name": "python",
   "nbconvert_exporter": "python",
   "pygments_lexer": "ipython3",
   "version": "3.12.2"
  }
 },
 "nbformat": 4,
 "nbformat_minor": 5
}
