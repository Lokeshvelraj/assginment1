{
 "cells": [
  {
   "cell_type": "code",
   "execution_count": 9,
   "id": "e3462846-6eb1-4e9b-a626-9168a797e66f",
   "metadata": {},
   "outputs": [
    {
     "name": "stdout",
     "output_type": "stream",
     "text": [
      "The sum is: 8954\n"
     ]
    }
   ],
   "source": [
    "### write a function and _ numbers that takes two numbers as arguments and returns their sum \n",
    "result = (5564+3390)\n",
    "print(\"The sum is:\", result) "
   ]
  },
  {
   "cell_type": "code",
   "execution_count": 10,
   "id": "1cf98bc1-0e82-40f2-8321-5eae9abf9467",
   "metadata": {},
   "outputs": [
    {
     "name": "stdout",
     "output_type": "stream",
     "text": [
      "The product is: 4455\n"
     ]
    }
   ],
   "source": [
    "### write a function  multiply_ numbers that takes two numbers as arguments and returns their product\n",
    "result =(99*45)\n",
    "print(\"The product is:\", result) "
   ]
  },
  {
   "cell_type": "code",
   "execution_count": 13,
   "id": "bb723328-2569-4d8f-8f86-f0d5bb625060",
   "metadata": {},
   "outputs": [
    {
     "name": "stdout",
     "output_type": "stream",
     "text": [
      "The quotient is: 5.0\n"
     ]
    },
    {
     "ename": "ZeroDivisionError",
     "evalue": "division by zero",
     "output_type": "error",
     "traceback": [
      "\u001b[1;31m---------------------------------------------------------------------------\u001b[0m",
      "\u001b[1;31mZeroDivisionError\u001b[0m                         Traceback (most recent call last)",
      "Cell \u001b[1;32mIn[13], line 5\u001b[0m\n\u001b[0;32m      2\u001b[0m result \u001b[38;5;241m=\u001b[39m(\u001b[38;5;241m10\u001b[39m\u001b[38;5;241m/\u001b[39m\u001b[38;5;241m2\u001b[39m)\n\u001b[0;32m      3\u001b[0m \u001b[38;5;28mprint\u001b[39m(\u001b[38;5;124m\"\u001b[39m\u001b[38;5;124mThe quotient is:\u001b[39m\u001b[38;5;124m\"\u001b[39m, result)  \n\u001b[1;32m----> 5\u001b[0m result \u001b[38;5;241m=\u001b[39m(\u001b[38;5;241;43m5\u001b[39;49m\u001b[38;5;241;43m/\u001b[39;49m\u001b[38;5;241;43m0\u001b[39;49m) \n\u001b[0;32m      6\u001b[0m \u001b[38;5;28mprint\u001b[39m(\u001b[38;5;124m\"\u001b[39m\u001b[38;5;124mresult is \u001b[39m\u001b[38;5;124m\"\u001b[39m,result)\n",
      "\u001b[1;31mZeroDivisionError\u001b[0m: division by zero"
     ]
    }
   ],
   "source": [
    "### write a function  divide_ numbers that takes two numbers as arguments and returns their quotient. make sure to handle the case where the second number is 0\n",
    "result =(10/2)\n",
    "print(\"The quotient is:\", result)  \n",
    "\n",
    "result =(5/0) \n",
    "print(\"result is \",result)"
   ]
  },
  {
   "cell_type": "code",
   "execution_count": 14,
   "id": "9a5824c1-5c7a-45b3-a3a2-e4fea86768b6",
   "metadata": {},
   "outputs": [
    {
     "name": "stdout",
     "output_type": "stream",
     "text": [
      "The average of the numbers is: 3.0\n"
     ]
    }
   ],
   "source": [
    "### write a function  calculate average  that takes a list of numbers  as argument and returns their average.\n",
    "numbers = [1, 2, 3, 4, 5]\n",
    "average =(((1+2+3+4+5)/5))\n",
    "print(\"The average of the numbers is:\", average)"
   ]
  },
  {
   "cell_type": "code",
   "execution_count": 16,
   "id": "d2a4af3f-8297-4355-b56e-a473c853f497",
   "metadata": {},
   "outputs": [
    {
     "name": "stdout",
     "output_type": "stream",
     "text": [
      "Is 17 prime? True\n",
      "Is 10 prime? False\n"
     ]
    }
   ],
   "source": [
    "### write a function is_ prime    that takes a  numbers  as an argument and returns true if the number is prime and false otherwise\n",
    "def is_prime(number):\n",
    "    \"\"\"Function to check if a number is prime\"\"\"\n",
    "    if number <= 1:\n",
    "        return False\n",
    "    for i in range(2, int(number ** 0.5) + 1):\n",
    "        if number % i == 0:\n",
    "            return False\n",
    "    return True\n",
    "\n",
    "# Example usage:\n",
    "num = 17\n",
    "print(\"Is\", num, \"prime?\", is_prime(num)) \n",
    "\n",
    "num = 10\n",
    "print(\"Is\", num, \"prime?\", is_prime(num)) \n"
   ]
  },
  {
   "cell_type": "code",
   "execution_count": 3,
   "id": "ae973f83-cec6-4ef1-b210-b6388765e3e5",
   "metadata": {},
   "outputs": [
    {
     "name": "stdout",
     "output_type": "stream",
     "text": [
      "Total balance of all accounts: 2000\n"
     ]
    }
   ],
   "source": [
    "### create a class bank with attributes  name and account. add methods add_ account ,remove_ account and get _ total_ balance that add an account to  the list, remove an account from the list , and return the total balance of all accounts, respectively\n",
    "class Bank:\n",
    "    def __init__(self, name):\n",
    "        self.name = name\n",
    "        self.accounts = []\n",
    "\n",
    "    def add_account(self, account):\n",
    "        \"\"\"Method to add an account to the list\"\"\"\n",
    "        self.accounts.append(account)\n",
    "\n",
    "    def remove_account(self, account):\n",
    "        \"\"\"Method to remove an account from the list\"\"\"\n",
    "        if account in self.accounts:\n",
    "            self.accounts.remove(account)\n",
    "        else:\n",
    "            print(\"Account not found.\")\n",
    "\n",
    "    def get_total_balance(self):\n",
    "        \"\"\"Method to return the total balance of all accounts\"\"\"\n",
    "        total_balance = sum(account.balance for account in self.accounts)\n",
    "        return total_balance\n",
    "\n",
    "\n",
    "class Account:\n",
    "    def __init__(self, account_number, balance):\n",
    "        self.account_number = account_number\n",
    "        self.balance = balance\n",
    "\n",
    "\n",
    "# Example usage:\n",
    "bank = Bank(\"Example Bank\")\n",
    "\n",
    "# Creating accounts\n",
    "account1 = Account(\"12345\", 1000)\n",
    "account2 = Account(\"67890\", 2000)\n",
    "\n",
    "# Adding accounts to the bank\n",
    "bank.add_account(account1)\n",
    "bank.add_account(account2)\n",
    "\n",
    "# Removing an account from the bank\n",
    "bank.remove_account(account1)\n",
    "\n",
    "# Getting the total balance of all accounts\n",
    "total_balance = bank.get_total_balance()\n",
    "print(\"Total balance of all accounts:\", total_balance)\n",
    "\n",
    "\n",
    "\n"
   ]
  },
  {
   "cell_type": "code",
   "execution_count": null,
   "id": "15ac6925-71b8-474d-b703-dcfbb7399a7d",
   "metadata": {},
   "outputs": [],
   "source": []
  }
 ],
 "metadata": {
  "kernelspec": {
   "display_name": "Python 3 (ipykernel)",
   "language": "python",
   "name": "python3"
  },
  "language_info": {
   "codemirror_mode": {
    "name": "ipython",
    "version": 3
   },
   "file_extension": ".py",
   "mimetype": "text/x-python",
   "name": "python",
   "nbconvert_exporter": "python",
   "pygments_lexer": "ipython3",
   "version": "3.12.2"
  }
 },
 "nbformat": 4,
 "nbformat_minor": 5
}
